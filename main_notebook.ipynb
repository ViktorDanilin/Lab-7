{
 "cells": [
  {
   "cell_type": "code",
   "execution_count": 130,
   "id": "596a2ea0",
   "metadata": {},
   "outputs": [],
   "source": [
    "import numpy as np\n",
    "import random\n",
    "import pandas as pd\n",
    "from time import perf_counter\n",
    "import matplotlib as mpl\n",
    "import matplotlib.pyplot as plt\n",
    "from mpl_toolkits.mplot3d import Axes3D"
   ]
  },
  {
   "cell_type": "code",
   "execution_count": 131,
   "id": "936729a1",
   "metadata": {},
   "outputs": [
    {
     "name": "stdout",
     "output_type": "stream",
     "text": [
      "2.697598800000378 [c], списки питона\n",
      "7290.0210733 [c], numpy\n"
     ]
    }
   ],
   "source": [
    "# 1st task\n",
    "\n",
    "t_start = perf_counter()\n",
    "array_1 = []\n",
    "array_2 = []\n",
    "product = []\n",
    "for i in range(1000000):\n",
    "    num_1 = random.randint(1, 1000000)\n",
    "    num_2 = random.randint(1, 1000000)\n",
    "    array_1.append(num_1)\n",
    "    array_2.append(num_2)\n",
    "    product.append(array_1[i] * array_2[i])\n",
    "print(perf_counter() - t_start, '[c], списки питона')\n",
    "\n",
    "t_start = perf_counter() - t_start\n",
    "array_1 = np.random.randint(0, 1000000, 1000000)\n",
    "array_2 = np.random.randint(0, 1000000, 1000000)\n",
    "product = np.multiply(array_1, array_2)\n",
    "print(perf_counter() - t_start, '[c], numpy')"
   ]
  },
  {
   "cell_type": "code",
   "execution_count": 132,
   "id": "904d9793",
   "metadata": {},
   "outputs": [],
   "source": [
    "# 2nd task\n",
    "\n",
    "file = pd.read_csv('data2.csv', delimiter=',')\n",
    "data = file['Hardness']\n",
    "std = file['Hardness'].std()"
   ]
  },
  {
   "cell_type": "code",
   "execution_count": 133,
   "id": "7280274d",
   "metadata": {},
   "outputs": [
    {
     "data": {
      "image/png": "[encoded data removed]",
      "text/plain": [
       "<Figure size 432x288 with 2 Axes>"
      ]
     },
     "metadata": {
      "needs_background": "light"
     },
     "output_type": "display_data"
    }
   ],
   "source": [
    "fig = plt.figure()\n",
    "gs = fig.add_gridspec(2, hspace=1)\n",
    "axs = gs.subplots(sharex=True, sharey=False)\n",
    "\n",
    "axs[0].hist(data, bins = 20)\n",
    "axs[0].set_title('Hardness')\n",
    "axs[0].set_xlabel('hardness value')\n",
    "axs[0].set_ylabel('material number')\n",
    "\n",
    "axs[1].hist(data,bins = 20, density=True)\n",
    "axs[1].set_title('Normalized hardness')\n",
    "axs[1].set_xlabel('hardness value')\n",
    "axs[1].set_ylabel('material number')\n",
    "\n",
    "for ax in axs:\n",
    "    ax.label_outer()"
   ]
  },
  {
   "cell_type": "code",
   "execution_count": 134,
   "id": "27a9b4e3",
   "metadata": {},
   "outputs": [
    {
     "name": "stdout",
     "output_type": "stream",
     "text": [
      "30.73 среднеквадратичное отклонение\n"
     ]
    }
   ],
   "source": [
    "print(round(std, 2), 'среднеквадратичное отклонение')"
   ]
  },
  {
   "cell_type": "code",
   "execution_count": 129,
   "id": "0716d47e",
   "metadata": {},
   "outputs": [],
   "source": [
    "# 3rd task\n"
   ]
  },
  {
   "cell_type": "code",
   "execution_count": null,
   "id": "ebd4037d",
   "metadata": {},
   "outputs": [],
   "source": []
  }
 ],
 "metadata": {
  "kernelspec": {
   "display_name": "Python 3 (ipykernel)",
   "language": "python",
   "name": "python3"
  },
  "language_info": {
   "codemirror_mode": {
    "name": "ipython",
    "version": 3
   },
   "file_extension": ".py",
   "mimetype": "text/x-python",
   "name": "python",
   "nbconvert_exporter": "python",
   "pygments_lexer": "ipython3",
   "version": "3.9.5"
  }
 },
 "nbformat": 4,
 "nbformat_minor": 5
}
